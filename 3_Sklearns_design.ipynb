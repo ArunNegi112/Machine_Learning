{
 "cells": [
  {
   "cell_type": "markdown",
   "metadata": {},
   "source": [
    "### __The Principles on which sklearn is designed are crazy__"
   ]
  },
  {
   "cell_type": "markdown",
   "metadata": {},
   "source": [
    "![alt text](image-1.png)"
   ]
  },
  {
   "cell_type": "markdown",
   "metadata": {
    "vscode": {
     "languageId": "plaintext"
    }
   },
   "source": [
    "Sklearn has 3 objects: Estimator, Transformer, Predictor\n",
    "\n",
    "__1. Estimator__  \n",
    "These are objects that estimate some parameter based on a dataset, its an object that learns from data.  \n",
    "It takes only one parameter 'data', any other parameter given is called _hyperparameter_.\n",
    "The method used for estimation is ___fit()___\n",
    "\n",
    "__2. Transformer__  \n",
    "Some estimators that can _transform_ the data as well as learning from it are called Transformer.  \n",
    "transforming data refers to modifying and preprocessing the data.  \n",
    "The method used for this is ___transform()___\n",
    "\n",
    "eg. SimpleImputer is both an Estimator and Transformer, it has a parameter 'strategy=\"mean/median...etc\"' called hyperparameter. Uses fit() to learn from data and transform() to modify it, also fit_transform() if we want to do them both together"
   ]
  },
  {
   "cell_type": "markdown",
   "metadata": {},
   "source": [
    "An estimator learns patterns or parameters from data using fit(), while a transformer modifies or preprocesses data using transform()."
   ]
  }
 ],
 "metadata": {
  "language_info": {
   "name": "python"
  }
 },
 "nbformat": 4,
 "nbformat_minor": 2
}
