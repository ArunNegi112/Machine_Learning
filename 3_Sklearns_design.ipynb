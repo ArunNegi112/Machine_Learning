{
 "cells": [
  {
   "cell_type": "markdown",
   "metadata": {},
   "source": [
    "Wait!!  \n",
    "Start with end-to-end project first and read this document when you reach on sklearn part in preprocessing"
   ]
  },
  {
   "cell_type": "markdown",
   "metadata": {},
   "source": [
    "### __The Principles on which sklearn is designed are crazy__"
   ]
  },
  {
   "cell_type": "markdown",
   "metadata": {},
   "source": [
    "_consistency_ : all objects in sklearn share a consistent and simple interface"
   ]
  },
  {
   "cell_type": "markdown",
   "metadata": {
    "vscode": {
     "languageId": "plaintext"
    }
   },
   "source": [
    "Sklearn has 3 objects: Estimator, Transformer, Predictor\n",
    "\n",
    "__1. Estimator__  \n",
    "These are objects that estimate some parameter based on a dataset, its an object that learns from data.  \n",
    "It takes only one parameter 'data', any other parameter given is called _hyperparameter_.\n",
    "The method used for estimation is ___fit()___\n",
    "\n",
    "__2. Transformer__  \n",
    "Some estimators that can _transform_ the data as well as learning from it are called Transformer.  \n",
    "transforming data refers to modifying and preprocessing the data.  \n",
    "The method used for this is ___transform()___\n",
    "\n",
    "eg. SimpleImputer is both an Estimator and Transformer, it has a parameter 'strategy=\"mean/median...etc\"' called hyperparameter. Uses fit() to learn from data and transform() to modify it, also fit_transform() if we want to do them both together"
   ]
  },
  {
   "cell_type": "markdown",
   "metadata": {},
   "source": [
    "An estimator learns patterns or parameters from data using fit(), while a transformer modifies or preprocesses data using transform()."
   ]
  },
  {
   "cell_type": "markdown",
   "metadata": {},
   "source": [
    "___3.Predictors___\n",
    "Finally, some estimators, given a dataset, are capable of making predictions;\n",
    "they are called predictors. For example, the LinearRegression model in the\n",
    "previous chapter was a predictor: given a country’s GDP per capita, it pre‐\n",
    "dicted life satisfaction. A predictor has a predict() method that takes a\n",
    "dataset of new instances and returns a dataset of corresponding predictions.\n",
    "\n",
    "\n",
    "___4 .Inspection___    \n",
    "All the estimator’s hyperparameters are accessible directly via public instance\n",
    "variables (e.g., imputer.strategy), and all the estimator’s learned parameters are\n",
    "accessible via public instance variables with an underscore suffix (e.g.,\n",
    "imputer.statistics_).  \n",
    "\n",
    "\n",
    "___5. Nonproliferation of classes___  \n",
    "basically - _Don’t invent new custom classes unnecessarily_  \n",
    "Datasets are represented as NumPy arrays or SciPy sparse matrices, instead of\n",
    "homemade classes. Hyperparameters are just regular Python strings or numbers.\n",
    "Composition Existing building blocks are reused as much as possible. For example, it is easy to\n",
    "create a Pipeline estimator from an arbitrary sequence of transformers followed\n",
    "by a final estimator, as we will see. \n",
    "\n",
    "\n",
    "___6. Sensible defaults___  \n",
    "Scikit-Learn provides reasonable default values for most parameters, making it\n",
    "easy to quickly create a baseline working system."
   ]
  }
 ],
 "metadata": {
  "language_info": {
   "name": "python"
  }
 },
 "nbformat": 4,
 "nbformat_minor": 2
}
