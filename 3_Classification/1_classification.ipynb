{
 "cells": [
  {
   "cell_type": "code",
   "execution_count": 37,
   "metadata": {},
   "outputs": [],
   "source": [
    "#Import basic modules\n",
    "import pandas as pd\n",
    "import numpy as np\n",
    "import matplotlib.pyplot as plt\n",
    "import sklearn"
   ]
  },
  {
   "cell_type": "code",
   "execution_count": 38,
   "metadata": {},
   "outputs": [
    {
     "name": "stdout",
     "output_type": "stream",
     "text": [
      "sys_Version: 3.13.1 (tags/v3.13.1:0671451, Dec  3 2024, 19:06:28) [MSC v.1942 64 bit (AMD64)]\n",
      "scikit-learn: 1.6.1\n"
     ]
    }
   ],
   "source": [
    "# System specs:\n",
    "import sys\n",
    "print('sys_Version:',sys.version)\n",
    "print('scikit-learn:',sklearn.__version__)  \n"
   ]
  },
  {
   "cell_type": "code",
   "execution_count": 66,
   "metadata": {},
   "outputs": [],
   "source": [
    "# Setting up default sizes for plots, rc = Runtime configuration\n",
    "\n",
    "plt.rc('figure',figsize = (10,6))          \n",
    "plt.rc('font',size =14)                    # Defining font size for all texts (unless overriden)\n",
    "plt.rc('xtick', labelsize = 14)            # you know what tick and tick_label is right?\n",
    "plt.rc('ytick', labelsize = 14)\n",
    "plt.rc('axes',labelsize= 14, titlesize= 16, titleweight = 'bold')   # Defining config of Xaxis, Yaxis and title"
   ]
  },
  {
   "cell_type": "code",
   "execution_count": null,
   "metadata": {},
   "outputs": [],
   "source": [
    "# Creating a function to save plots directly (Not really necessary cuz we wont post it on any book)\n",
    "from pathlib import Path\n",
    "\n",
    "Image_path = Path() / 'images'     #Creating path for images to be stored \n",
    "Image_path.mkdir(exist_ok=True)    #Making directory of images (exists_ok = True won't raise error if not)\n",
    "\n",
    "def save_imp(fig_name,tight_layout=True, resolution=300, extension='png'):\n",
    "\n",
    "    image_path = Image_path / f'{fig_name}.{extension}'\n",
    "    if tight_layout:\n",
    "        plt.tight_layout()\n",
    "    plt.savefig(image_path, format=extension, dpi= resolution)\n",
    "\n",
    "\n",
    "# Now We just have to call this function and the plot will be saved"
   ]
  },
  {
   "cell_type": "code",
   "execution_count": null,
   "metadata": {},
   "outputs": [],
   "source": []
  }
 ],
 "metadata": {
  "kernelspec": {
   "display_name": "venv",
   "language": "python",
   "name": "python3"
  },
  "language_info": {
   "codemirror_mode": {
    "name": "ipython",
    "version": 3
   },
   "file_extension": ".py",
   "mimetype": "text/x-python",
   "name": "python",
   "nbconvert_exporter": "python",
   "pygments_lexer": "ipython3",
   "version": "3.13.1"
  }
 },
 "nbformat": 4,
 "nbformat_minor": 2
}
