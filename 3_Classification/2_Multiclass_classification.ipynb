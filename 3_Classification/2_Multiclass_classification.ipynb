{
 "cells": [
  {
   "cell_type": "markdown",
   "metadata": {},
   "source": [
    "#### Import libraries"
   ]
  },
  {
   "cell_type": "code",
   "execution_count": 1,
   "metadata": {},
   "outputs": [],
   "source": [
    "import pandas as pd\n",
    "import numpy as np\n",
    "import matplotlib.pyplot as plt"
   ]
  },
  {
   "cell_type": "markdown",
   "metadata": {},
   "source": [
    "#### Define plot saving function"
   ]
  },
  {
   "cell_type": "code",
   "execution_count": 2,
   "metadata": {},
   "outputs": [],
   "source": [
    "# Setting up default settings for plots, rc = Runtime configuration\n",
    "\n",
    "plt.rc('figure',figsize = (10,6))          \n",
    "plt.rc('font',size =14)                    # Defining font size for all texts (unless overriden)\n",
    "plt.rc('xtick', labelsize = 14)            # you know what tick and tick_label is right?\n",
    "plt.rc('ytick', labelsize = 14)\n",
    "plt.rc('axes',labelsize= 14, titlesize= 16, titleweight = 'bold')   # Defining config of Xaxis, Yaxis and title"
   ]
  },
  {
   "cell_type": "markdown",
   "metadata": {},
   "source": [
    "#### Get the dataset"
   ]
  },
  {
   "cell_type": "code",
   "execution_count": 8,
   "metadata": {},
   "outputs": [
    {
     "data": {
      "text/plain": [
       "((70000, 784), (70000,))"
      ]
     },
     "execution_count": 8,
     "metadata": {},
     "output_type": "execute_result"
    }
   ],
   "source": [
    "from sklearn.datasets import fetch_openml\n",
    "\n",
    "mnist = fetch_openml('mnist_784',version=1)\n",
    "X,y = np.array(mnist['data']), np.array(mnist['target'])\n",
    "X.shape,y.shape"
   ]
  },
  {
   "cell_type": "markdown",
   "metadata": {},
   "source": [
    "#### Train-Test split"
   ]
  },
  {
   "cell_type": "code",
   "execution_count": 9,
   "metadata": {},
   "outputs": [],
   "source": [
    "# Train-Test Split\n",
    "X_train,X_test,y_train,y_test = X[:60000],X[60000:],y[:60000],y[60000:]"
   ]
  },
  {
   "cell_type": "markdown",
   "metadata": {},
   "source": [
    "# _Multiclass Classification/Multinomial Classification_"
   ]
  },
  {
   "cell_type": "markdown",
   "metadata": {},
   "source": [
    "There are two ways in which we can perform multiclass classification \n",
    "1. Use multiclass classifiers\n",
    "2. Use multiple binary classifiers\n",
    "\n",
    "There are two ways to use binary classifiers for multiclass classification\n",
    "1. OvR (One vs Rest/One vs All) \n",
    "    - We train one binary classifier for each class\n",
    "    - Each classifier learn to detect \"that class\" or \"not that class\"\n",
    "    - During prediction, all the classifiers run, one with the highest score decides the final class\n",
    "\n",
    "    eg. In this dataset, we will train 10 binary classifier for all 10 classes(0-9), 1st classifier give score for any image to be \"0\"or\"Not 0\", 1st will give score for \"1\"or\"not 1\" and so on...\n",
    "\n",
    "2. OvO (One vs One)\n",
    "    - We train one binary classifier for each pair of classes\n",
    "    - For _n_ number of classes we get <sup>n</sup>C<sub>2</sub> = $\\frac{(n)*(n-1)}{2}$\n",
    "    - During prediction, each model gives its vote and the class with most number of votes is selected\n",
    "\n",
    "    eg. In this dataset, we will train 10*9/2 = 45 binary classifiers that will vote to give final output (predict class), 1st classifier is trained on \"0\"or\"1\", 2nd on \"0\"or\"2\" and so on....\n"
   ]
  }
 ],
 "metadata": {
  "kernelspec": {
   "display_name": "venv",
   "language": "python",
   "name": "python3"
  },
  "language_info": {
   "codemirror_mode": {
    "name": "ipython",
    "version": 3
   },
   "file_extension": ".py",
   "mimetype": "text/x-python",
   "name": "python",
   "nbconvert_exporter": "python",
   "pygments_lexer": "ipython3",
   "version": "3.13.1"
  }
 },
 "nbformat": 4,
 "nbformat_minor": 2
}
