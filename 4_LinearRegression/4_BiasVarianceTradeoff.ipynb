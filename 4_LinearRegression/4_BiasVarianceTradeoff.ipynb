{
 "cells": [
  {
   "cell_type": "markdown",
   "id": "c1bb2074",
   "metadata": {},
   "source": [
    "### A Models performance can be expressed using sum of three very differnt errors\n",
    "- ___Bias___  \n",
    "- ___Variance___  \n",
    "- ___Irreducible error___"
   ]
  },
  {
   "cell_type": "markdown",
   "id": "3ec238b8",
   "metadata": {},
   "source": [
    "### Bias \n",
    "when a model is not able to perform well on training data itself. It is said to have high bias  \n",
    "And the model is generally underfit\n",
    "\n",
    "### Variance\n",
    "It is the difference between error on training set and error on test set.  \n",
    "If the variance is high that means model is performing good on training data but fails to predict new data.  \n",
    "And the model is generally overfit\n",
    "\n",
    "### Irreducible error\n",
    "If is mainly due to noise in data.  \n",
    "The only way to fix this is cleaning the data, removing ouliers, fix data sources"
   ]
  },
  {
   "cell_type": "markdown",
   "id": "162e11f8",
   "metadata": {},
   "source": [
    "_Finally we always need a model to have:_\n",
    "- Low bias and\n",
    "- Low variance __both__\n"
   ]
  },
  {
   "cell_type": "markdown",
   "id": "84b2ae93",
   "metadata": {},
   "source": [
    "To find that certain model we use _Regularized Linear Models_:\n",
    "- Ridge Regression\n",
    "- Lasso Regression\n",
    "- Elastic Net"
   ]
  },
  {
   "cell_type": "markdown",
   "id": "46f30789",
   "metadata": {},
   "source": []
  }
 ],
 "metadata": {
  "language_info": {
   "name": "python"
  }
 },
 "nbformat": 4,
 "nbformat_minor": 5
}
