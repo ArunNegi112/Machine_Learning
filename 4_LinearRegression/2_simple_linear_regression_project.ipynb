{
 "cells": [
  {
   "cell_type": "markdown",
   "id": "17042cd9",
   "metadata": {},
   "source": [
    "# __A simple linear regression model__\n",
    "#### predicting height using weight"
   ]
  },
  {
   "cell_type": "code",
   "execution_count": 1,
   "id": "c4b35298",
   "metadata": {},
   "outputs": [],
   "source": [
    "import pandas as pd\n",
    "import numpy as np\n",
    "import matplotlib.pyplot as plt"
   ]
  },
  {
   "cell_type": "code",
   "execution_count": 2,
   "id": "809a51f7",
   "metadata": {},
   "outputs": [
    {
     "data": {
      "text/html": [
       "<div>\n",
       "<style scoped>\n",
       "    .dataframe tbody tr th:only-of-type {\n",
       "        vertical-align: middle;\n",
       "    }\n",
       "\n",
       "    .dataframe tbody tr th {\n",
       "        vertical-align: top;\n",
       "    }\n",
       "\n",
       "    .dataframe thead th {\n",
       "        text-align: right;\n",
       "    }\n",
       "</style>\n",
       "<table border=\"1\" class=\"dataframe\">\n",
       "  <thead>\n",
       "    <tr style=\"text-align: right;\">\n",
       "      <th></th>\n",
       "      <th>Weight</th>\n",
       "      <th>Height</th>\n",
       "    </tr>\n",
       "  </thead>\n",
       "  <tbody>\n",
       "    <tr>\n",
       "      <th>0</th>\n",
       "      <td>45</td>\n",
       "      <td>120</td>\n",
       "    </tr>\n",
       "    <tr>\n",
       "      <th>1</th>\n",
       "      <td>58</td>\n",
       "      <td>135</td>\n",
       "    </tr>\n",
       "    <tr>\n",
       "      <th>2</th>\n",
       "      <td>48</td>\n",
       "      <td>123</td>\n",
       "    </tr>\n",
       "    <tr>\n",
       "      <th>3</th>\n",
       "      <td>60</td>\n",
       "      <td>145</td>\n",
       "    </tr>\n",
       "    <tr>\n",
       "      <th>4</th>\n",
       "      <td>70</td>\n",
       "      <td>160</td>\n",
       "    </tr>\n",
       "  </tbody>\n",
       "</table>\n",
       "</div>"
      ],
      "text/plain": [
       "   Weight  Height\n",
       "0      45     120\n",
       "1      58     135\n",
       "2      48     123\n",
       "3      60     145\n",
       "4      70     160"
      ]
     },
     "execution_count": 2,
     "metadata": {},
     "output_type": "execute_result"
    }
   ],
   "source": [
    "data = pd.read_csv('height-weight.csv')\n",
    "data.head()"
   ]
  },
  {
   "cell_type": "code",
   "execution_count": 3,
   "id": "fcab2337",
   "metadata": {},
   "outputs": [
    {
     "data": {
      "text/plain": [
       "(23, 2)"
      ]
     },
     "execution_count": 3,
     "metadata": {},
     "output_type": "execute_result"
    }
   ],
   "source": [
    "data.shape"
   ]
  },
  {
   "cell_type": "code",
   "execution_count": 4,
   "id": "77b39f36",
   "metadata": {},
   "outputs": [],
   "source": [
    "X = pd.DataFrame(data['Weight'])\n",
    "Y = pd.DataFrame(data['Height'])"
   ]
  },
  {
   "cell_type": "code",
   "execution_count": 5,
   "id": "3db5c916",
   "metadata": {},
   "outputs": [],
   "source": [
    "## Train-Test Split\n",
    "from sklearn.model_selection import train_test_split\n",
    "\n",
    "X_train, X_test, y_train, y_test = train_test_split(X,Y,test_size=0.4,random_state=42)"
   ]
  },
  {
   "cell_type": "code",
   "execution_count": 6,
   "id": "67eb98db",
   "metadata": {},
   "outputs": [
    {
     "data": {
      "text/plain": [
       "<matplotlib.collections.PathCollection at 0x245726be7b0>"
      ]
     },
     "execution_count": 6,
     "metadata": {},
     "output_type": "execute_result"
    },
    {
     "data": {
      "image/png": "[encoded data removed]",
      "text/plain": [
       "<Figure size 500x400 with 1 Axes>"
      ]
     },
     "metadata": {},
     "output_type": "display_data"
    }
   ],
   "source": [
    "## EDA\n",
    "plt.figure(figsize=(5,4))\n",
    "plt.scatter(X,Y)"
   ]
  },
  {
   "cell_type": "code",
   "execution_count": 7,
   "id": "c3f2853c",
   "metadata": {},
   "outputs": [
    {
     "name": "stdout",
     "output_type": "stream",
     "text": [
      "The minimum height is 120cm and corresponding weight(s): 45kg\n",
      "The maximum height is 183cm and corresponding weight(s): 100kg\n"
     ]
    }
   ],
   "source": [
    "min_height = Y.min().values[0]\n",
    "corresponding_weight_min = data.loc[data['Height'] == min_height, 'Weight'].values\n",
    "print(f\"The minimum height is {min_height}cm and corresponding weight(s): {corresponding_weight_min[0]}kg\")\n",
    "\n",
    "max_height = Y.max().values[0]\n",
    "corresponding_weight_max = data.loc[data['Height'] == max_height, 'Weight'].values\n",
    "print(f\"The maximum height is {max_height}cm and corresponding weight(s): {corresponding_weight_max[0]}kg\")\n"
   ]
  },
  {
   "cell_type": "code",
   "execution_count": 8,
   "id": "cc529be9",
   "metadata": {},
   "outputs": [
    {
     "data": {
      "text/plain": [
       "array([[ 1.44537162],\n",
       "       [-1.82811811],\n",
       "       [-0.84607119],\n",
       "       [-0.19137325],\n",
       "       [ 0.20144552],\n",
       "       [-1.50076914],\n",
       "       [-1.10795037],\n",
       "       [-0.06043366],\n",
       "       [ 1.11802265],\n",
       "       [ 0.59426429],\n",
       "       [ 0.79067367],\n",
       "       [ 0.92161326],\n",
       "       [ 0.4633247 ]])"
      ]
     },
     "execution_count": 8,
     "metadata": {},
     "output_type": "execute_result"
    }
   ],
   "source": [
    "# Feature Scaling - Standardize the weight feature\n",
    "from sklearn.preprocessing import StandardScaler\n",
    "scaler = StandardScaler()\n",
    "\n",
    "X_train = scaler.fit_transform(X_train)\n",
    "X_train"
   ]
  },
  {
   "cell_type": "code",
   "execution_count": 9,
   "id": "929759be",
   "metadata": {},
   "outputs": [
    {
     "data": {
      "text/plain": [
       "array([[ 1.        ,  1.44537162],\n",
       "       [ 1.        , -1.82811811],\n",
       "       [ 1.        , -0.84607119],\n",
       "       [ 1.        , -0.19137325],\n",
       "       [ 1.        ,  0.20144552],\n",
       "       [ 1.        , -1.50076914],\n",
       "       [ 1.        , -1.10795037],\n",
       "       [ 1.        , -0.06043366],\n",
       "       [ 1.        ,  1.11802265],\n",
       "       [ 1.        ,  0.59426429],\n",
       "       [ 1.        ,  0.79067367],\n",
       "       [ 1.        ,  0.92161326],\n",
       "       [ 1.        ,  0.4633247 ]])"
      ]
     },
     "execution_count": 9,
     "metadata": {},
     "output_type": "execute_result"
    }
   ],
   "source": [
    "# For SLR, we add dummy feature\n",
    "from sklearn.preprocessing import add_dummy_feature\n",
    "X_train_b = add_dummy_feature(X_train)\n",
    "X_train_b"
   ]
  },
  {
   "cell_type": "code",
   "execution_count": 10,
   "id": "fb4d2b09",
   "metadata": {},
   "outputs": [
    {
     "data": {
      "text/html": [
       "<div>\n",
       "<style scoped>\n",
       "    .dataframe tbody tr th:only-of-type {\n",
       "        vertical-align: middle;\n",
       "    }\n",
       "\n",
       "    .dataframe tbody tr th {\n",
       "        vertical-align: top;\n",
       "    }\n",
       "\n",
       "    .dataframe thead th {\n",
       "        text-align: right;\n",
       "    }\n",
       "</style>\n",
       "<table border=\"1\" class=\"dataframe\">\n",
       "  <thead>\n",
       "    <tr style=\"text-align: right;\">\n",
       "      <th></th>\n",
       "      <th>Height</th>\n",
       "    </tr>\n",
       "  </thead>\n",
       "  <tbody>\n",
       "    <tr>\n",
       "      <th>0</th>\n",
       "      <td>158.230769</td>\n",
       "    </tr>\n",
       "    <tr>\n",
       "      <th>1</th>\n",
       "      <td>14.872878</td>\n",
       "    </tr>\n",
       "  </tbody>\n",
       "</table>\n",
       "</div>"
      ],
      "text/plain": [
       "       Height\n",
       "0  158.230769\n",
       "1   14.872878"
      ]
     },
     "execution_count": 10,
     "metadata": {},
     "output_type": "execute_result"
    }
   ],
   "source": [
    "# The normal equation\n",
    "Theta = np.linalg.inv(X_train_b.T @ X_train_b) @ X_train_b.T @ y_train\n",
    "Theta"
   ]
  },
  {
   "cell_type": "code",
   "execution_count": 11,
   "id": "93d587ba",
   "metadata": {},
   "outputs": [
    {
     "data": {
      "text/html": [
       "<div>\n",
       "<style scoped>\n",
       "    .dataframe tbody tr th:only-of-type {\n",
       "        vertical-align: middle;\n",
       "    }\n",
       "\n",
       "    .dataframe tbody tr th {\n",
       "        vertical-align: top;\n",
       "    }\n",
       "\n",
       "    .dataframe thead th {\n",
       "        text-align: right;\n",
       "    }\n",
       "</style>\n",
       "<table border=\"1\" class=\"dataframe\">\n",
       "  <thead>\n",
       "    <tr style=\"text-align: right;\">\n",
       "      <th></th>\n",
       "      <th>Height</th>\n",
       "    </tr>\n",
       "  </thead>\n",
       "  <tbody>\n",
       "    <tr>\n",
       "      <th>0</th>\n",
       "      <td>179.727605</td>\n",
       "    </tr>\n",
       "    <tr>\n",
       "      <th>1</th>\n",
       "      <td>131.041392</td>\n",
       "    </tr>\n",
       "    <tr>\n",
       "      <th>2</th>\n",
       "      <td>145.647256</td>\n",
       "    </tr>\n",
       "    <tr>\n",
       "      <th>3</th>\n",
       "      <td>155.384498</td>\n",
       "    </tr>\n",
       "    <tr>\n",
       "      <th>4</th>\n",
       "      <td>161.226844</td>\n",
       "    </tr>\n",
       "    <tr>\n",
       "      <th>5</th>\n",
       "      <td>135.910013</td>\n",
       "    </tr>\n",
       "    <tr>\n",
       "      <th>6</th>\n",
       "      <td>141.752359</td>\n",
       "    </tr>\n",
       "    <tr>\n",
       "      <th>7</th>\n",
       "      <td>157.331947</td>\n",
       "    </tr>\n",
       "    <tr>\n",
       "      <th>8</th>\n",
       "      <td>174.858983</td>\n",
       "    </tr>\n",
       "    <tr>\n",
       "      <th>9</th>\n",
       "      <td>167.069189</td>\n",
       "    </tr>\n",
       "    <tr>\n",
       "      <th>10</th>\n",
       "      <td>169.990362</td>\n",
       "    </tr>\n",
       "    <tr>\n",
       "      <th>11</th>\n",
       "      <td>171.937811</td>\n",
       "    </tr>\n",
       "    <tr>\n",
       "      <th>12</th>\n",
       "      <td>165.121741</td>\n",
       "    </tr>\n",
       "  </tbody>\n",
       "</table>\n",
       "</div>"
      ],
      "text/plain": [
       "        Height\n",
       "0   179.727605\n",
       "1   131.041392\n",
       "2   145.647256\n",
       "3   155.384498\n",
       "4   161.226844\n",
       "5   135.910013\n",
       "6   141.752359\n",
       "7   157.331947\n",
       "8   174.858983\n",
       "9   167.069189\n",
       "10  169.990362\n",
       "11  171.937811\n",
       "12  165.121741"
      ]
     },
     "execution_count": 11,
     "metadata": {},
     "output_type": "execute_result"
    }
   ],
   "source": [
    "# Prediction\n",
    "y_predict = X_train_b @ Theta\n",
    "y_predict"
   ]
  },
  {
   "cell_type": "code",
   "execution_count": 12,
   "id": "2f493edc",
   "metadata": {},
   "outputs": [
    {
     "data": {
      "text/plain": [
       "4.744837325274484"
      ]
     },
     "execution_count": 12,
     "metadata": {},
     "output_type": "execute_result"
    }
   ],
   "source": [
    "# RSME Error\n",
    "from sklearn.metrics import root_mean_squared_error\n",
    "err = root_mean_squared_error(y_train,y_predict)\n",
    "err"
   ]
  },
  {
   "cell_type": "code",
   "execution_count": 13,
   "id": "c8769525",
   "metadata": {},
   "outputs": [
    {
     "data": {
      "text/plain": [
       "array([[158.23076923],\n",
       "       [ 14.87287783]])"
      ]
     },
     "execution_count": 13,
     "metadata": {},
     "output_type": "execute_result"
    }
   ],
   "source": [
    "## The SVM Method \n",
    "Theta, residual, rank, s = np.linalg.lstsq(X_train_b,y_train)\n",
    "Theta"
   ]
  },
  {
   "cell_type": "code",
   "execution_count": 14,
   "id": "f6eabbfb",
   "metadata": {},
   "outputs": [
    {
     "data": {
      "text/plain": [
       "array([292.67525616])"
      ]
     },
     "execution_count": 14,
     "metadata": {},
     "output_type": "execute_result"
    }
   ],
   "source": [
    "residual"
   ]
  },
  {
   "cell_type": "markdown",
   "id": "a3c6d358",
   "metadata": {},
   "source": [
    "__Its the same__"
   ]
  },
  {
   "cell_type": "markdown",
   "id": "6d7f6962",
   "metadata": {},
   "source": [
    "### The above all is just for understanding \n",
    "#### Developing pipeline now"
   ]
  },
  {
   "cell_type": "code",
   "execution_count": null,
   "id": "b08c94fd",
   "metadata": {},
   "outputs": [],
   "source": [
    "from sklearn.pipeline import Pipeline\n",
    "\n",
    "pipe = Pipeline(\n",
    "    [('scaler',StandardScaler())]\n",
    ")"
   ]
  },
  {
   "cell_type": "code",
   "execution_count": 29,
   "id": "78f9491a",
   "metadata": {},
   "outputs": [
    {
     "data": {
      "text/plain": [
       "array([[ 1.44537162],\n",
       "       [-1.82811811],\n",
       "       [-0.84607119],\n",
       "       [-0.19137325],\n",
       "       [ 0.20144552],\n",
       "       [-1.50076914],\n",
       "       [-1.10795037],\n",
       "       [-0.06043366],\n",
       "       [ 1.11802265],\n",
       "       [ 0.59426429],\n",
       "       [ 0.79067367],\n",
       "       [ 0.92161326],\n",
       "       [ 0.4633247 ]])"
      ]
     },
     "execution_count": 29,
     "metadata": {},
     "output_type": "execute_result"
    }
   ],
   "source": [
    "pipe.fit_transform(X_train,y_train)"
   ]
  },
  {
   "cell_type": "code",
   "execution_count": 35,
   "id": "9185f389",
   "metadata": {},
   "outputs": [
    {
     "data": {
      "text/plain": [
       "array([[179.72760475],\n",
       "       [131.0413919 ],\n",
       "       [145.64725576],\n",
       "       [155.38449833],\n",
       "       [161.22684387],\n",
       "       [135.91001319],\n",
       "       [141.75235873],\n",
       "       [157.33194684],\n",
       "       [174.85898346],\n",
       "       [167.06918941],\n",
       "       [169.99036218],\n",
       "       [171.93781069],\n",
       "       [165.12174089]])"
      ]
     },
     "execution_count": 35,
     "metadata": {},
     "output_type": "execute_result"
    }
   ],
   "source": [
    "from sklearn.linear_model import LinearRegression\n",
    "regressor = LinearRegression()\n",
    "regressor.fit(X_train,y_train)\n",
    "y_predict = regressor.predict(X_train)\n",
    "y_predict"
   ]
  },
  {
   "cell_type": "code",
   "execution_count": 37,
   "id": "7366855f",
   "metadata": {},
   "outputs": [
    {
     "data": {
      "text/plain": [
       "4.744837325274482"
      ]
     },
     "execution_count": 37,
     "metadata": {},
     "output_type": "execute_result"
    }
   ],
   "source": [
    "## Error \n",
    "rsme = root_mean_squared_error(y_train,y_predict)\n",
    "rsme"
   ]
  },
  {
   "cell_type": "markdown",
   "id": "036d9f22",
   "metadata": {},
   "source": [
    "### How to see if model is reliable? \n",
    "1. Scatter plot of y_test vs y_predict is linear\n",
    "2. residual = y_test - y_predict. Distribution of residuals is normal distribution\n",
    "3. Scatter plot of residuals vs y_predict is randomly distributed over 0"
   ]
  },
  {
   "cell_type": "code",
   "execution_count": 43,
   "id": "3b794991",
   "metadata": {},
   "outputs": [],
   "source": [
    "### Use test data\n",
    "pipe.fit_transform(X_test)\n",
    "regressor = LinearRegression()\n",
    "regressor.fit(X_test,y_test)\n",
    "y_predict = regressor.predict(X_test)"
   ]
  },
  {
   "cell_type": "code",
   "execution_count": 50,
   "id": "11ffb0ab",
   "metadata": {},
   "outputs": [
    {
     "data": {
      "text/plain": [
       "<matplotlib.collections.PathCollection at 0x24575810050>"
      ]
     },
     "execution_count": 50,
     "metadata": {},
     "output_type": "execute_result"
    },
    {
     "data": {
      "image/png": "[encoded data removed]",
      "text/plain": [
       "<Figure size 500x300 with 1 Axes>"
      ]
     },
     "metadata": {},
     "output_type": "display_data"
    }
   ],
   "source": [
    "## Method 1 \n",
    "plt.figure(figsize=(5,3))\n",
    "plt.scatter(y_test,y_predict)"
   ]
  },
  {
   "cell_type": "code",
   "execution_count": 58,
   "id": "1bfe49f5",
   "metadata": {},
   "outputs": [
    {
     "data": {
      "text/plain": [
       "<Axes: ylabel='Count'>"
      ]
     },
     "execution_count": 58,
     "metadata": {},
     "output_type": "execute_result"
    },
    {
     "data": {
      "image/png": "[encoded data removed]",
      "text/plain": [
       "<Figure size 640x480 with 1 Axes>"
      ]
     },
     "metadata": {},
     "output_type": "display_data"
    }
   ],
   "source": [
    "## Method 2 \n",
    "import seaborn as sns\n",
    "residuals = y_test - y_predict\n",
    "sns.histplot(residuals,kde=True)"
   ]
  },
  {
   "cell_type": "code",
   "execution_count": 59,
   "id": "a20cfbe9",
   "metadata": {},
   "outputs": [
    {
     "data": {
      "text/plain": [
       "<matplotlib.collections.PathCollection at 0x24575e07d90>"
      ]
     },
     "execution_count": 59,
     "metadata": {},
     "output_type": "execute_result"
    },
    {
     "data": {
      "image/png": "[encoded data removed]",
      "text/plain": [
       "<Figure size 640x480 with 1 Axes>"
      ]
     },
     "metadata": {},
     "output_type": "display_data"
    }
   ],
   "source": [
    "## Method 3\n",
    "plt.scatter(y=residuals,x=y_predict)"
   ]
  }
 ],
 "metadata": {
  "kernelspec": {
   "display_name": "venv",
   "language": "python",
   "name": "python3"
  },
  "language_info": {
   "codemirror_mode": {
    "name": "ipython",
    "version": 3
   },
   "file_extension": ".py",
   "mimetype": "text/x-python",
   "name": "python",
   "nbconvert_exporter": "python",
   "pygments_lexer": "ipython3",
   "version": "3.13.1"
  }
 },
 "nbformat": 4,
 "nbformat_minor": 5
}
