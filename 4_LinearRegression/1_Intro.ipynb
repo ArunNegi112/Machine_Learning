{
 "cells": [
  {
   "cell_type": "markdown",
   "id": "0b8eea31",
   "metadata": {},
   "source": [
    "# Linear Regression\n",
    "\n",
    "- One of the simplest and widely used algorithm for predictive modeling\n",
    "- Tries to build a relationship between \n",
    "    - independent variable (input) `X` \n",
    "    - and dependent variable (output) `Y`"
   ]
  },
  {
   "cell_type": "markdown",
   "id": "12181221",
   "metadata": {},
   "source": [
    "__Equations:__\n",
    "\n",
    "_For simple data with single feature:_\n",
    "$$\\text{Y} = \\text{mX + c}$$\n",
    "- m: slope (or weight)  \n",
    "- c: intercept (or bias term)\n",
    "\n",
    "_For Multiple Linear Regression (multiple features):_\n",
    "$$ \\hat{y} = \\theta_0 + \\theta_1 x_1 + \\theta_2 x_2 + .... + \\theta_n x_n $$\n",
    "\n",
    "- $\\hat{y}$: output (predicted value)  \n",
    "- $\\theta_0 + \\theta_1 x_1 + \\theta_2 x_2 + .... + \\theta_n x_n$: `weighted sum`  \n",
    "- $X_i$: feature value of ith feature   \n",
    "- $\\theta_j$: model parameters, $\\theta_0$ is `bias term` and $\\theta_1,\\theta_2...$ are `Feature weights`"
   ]
  },
  {
   "cell_type": "markdown",
   "id": "6ac7fef4",
   "metadata": {},
   "source": [
    "_Two more representation of this function_\n",
    "\n",
    "1. Vectorized form:  \n",
    "$\\theta$ and x are taken as vectors, $$\\hat{Y} = h_\\theta (x) = \\theta \\cdot X$$ \n",
    "\n",
    "\n",
    "$\\theta$: Model parameters vector ($\\theta_0$ bias term + $\\theta_1,\\theta_2...$ features wieight)  \n",
    "$X$ : feature vector, containing feature value of an instance. $x_0$ is always $1$, $x_1$ to $x_n$ containg feature values  \n",
    "$\\hat{Y}$: output is a scalar,    \n",
    "$h_\\theta$: `hypothesis function` uses model parameters $\\theta$\n"
   ]
  },
  {
   "cell_type": "markdown",
   "id": "ebf84053",
   "metadata": {},
   "source": [
    "2. Matrix form:   \n",
    "\n",
    "Let $n$ be original number of features and $m$ be total number of samples\n",
    "- For single sample, i.e m=1\n",
    "\n",
    "$$\n",
    "\\hat{y} = \\theta^\\top X\n",
    "$$\n",
    "\n",
    "$$\n",
    "y \\;=\\;\n",
    "\\begin{pmatrix}\n",
    "\\theta_0 & \\theta_1 & \\cdots & \\theta_n\n",
    "\\end{pmatrix}\n",
    "\\begin{pmatrix}\n",
    "x_0 \\\\[6pt]\n",
    "x_1 \\\\[6pt]\n",
    "\\vdots \\\\[6pt]\n",
    "x_n\n",
    "\\end{pmatrix}\n",
    "$$\n",
    "\n",
    "\n",
    "$\\hat{y}$: output by matrix multiplication (shape=1x1)   \n",
    "$\\theta$: column vector of shape (n+1)x1 [$\\theta_0,\\theta_1....\\theta_n$]  \n",
    "$x$: column vector of shape (n+1)x1, [$x_0, x_1,...,x_n$]. Contains feature values of single sample  \n",
    "\n",
    "- For multiple samples, i.e m=m\n",
    "$$\n",
    "\\hat{y} = X \\theta\n",
    "$$\n",
    "\n",
    "$$\n",
    "\\begin{pmatrix}\n",
    "\\hat y^{(1)}\\\\\n",
    "\\hat y^{(2)}\\\\\n",
    "\\vdots\\\\\n",
    "\\hat y^{(m)}\n",
    "\\end{pmatrix}\n",
    "=\n",
    "\\begin{pmatrix}\n",
    "x_0^{(1)} & x_1^{(1)} & \\dots & x_n^{(1)}\\\\\n",
    "x_0^{(2)} & x_1^{(2)} & \\dots & x_n^{(2)}\\\\\n",
    "\\vdots & \\vdots & \\ddots & \\vdots\\\\\n",
    "x_0^{(m)} & x_1^{(m)} & \\dots & x_n^{(m)}\n",
    "\\end{pmatrix}\n",
    "\\begin{pmatrix}\n",
    "\\theta_0\\\\\n",
    "\\theta_1\\\\\n",
    "\\vdots\\\\\n",
    "\\theta_n\n",
    "\\end{pmatrix}\n",
    "$$\n",
    "\n",
    "$\\hat{y}$: output by matrix multiplication (shape=mx1)   \n",
    "$x$: matrix of shape mx(n+1)  \n",
    "$\\theta$: matrix of shape (n+1)x1"
   ]
  },
  {
   "cell_type": "markdown",
   "id": "117f6ae2",
   "metadata": {},
   "source": [
    "$$\n",
    "y \\;=\\;\n",
    "\\begin{pmatrix}\n",
    "\\theta_0 & \\theta_1 & \\cdots & \\theta_n\n",
    "\\end{pmatrix}\n",
    "\\begin{pmatrix}\n",
    "x_0 \\\\[6pt]\n",
    "x_1 \\\\[6pt]\n",
    "\\vdots \\\\[6pt]\n",
    "x_n\n",
    "\\end{pmatrix}\n",
    "$$\n"
   ]
  },
  {
   "cell_type": "markdown",
   "id": "8ac4a52a",
   "metadata": {},
   "source": [
    "### ___How do we train a model?___\n",
    "\n",
    "what does `Training` a model refer to?  \n",
    "Training a model refers to setting parameters such that the model best fits the training data.\n",
    "\n",
    "What does `fitting` a model mean?  \n",
    "Fitting refers to setting parameters such that the predictions of model closely matches the outputs (present in training set)\n",
    "\n",
    "To find the best parameters, we need a measure of how good or bad the model is predicting, And that measure is called `Cost function or Loss function`  \n",
    "- The most common performance measure is RMSE (for linear reg). \n",
    "- but as a cost function we gonna use MSE, because its easier to work with MSE and its gives the same result (because the value that minimizes MSE, also minimizes its root)\n",
    "- Hence we have to find best $\\theta$ that minimizes MSE\n",
    "\n",
    "Note- This is often done in ML, that we dont use acutally commonly used perfomance matrix while evaluating final model, instead we use an easier-to-optimize function."
   ]
  },
  {
   "cell_type": "markdown",
   "id": "b76b319b",
   "metadata": {},
   "source": [
    "### ___MSE (Mean Squared Error)___\n",
    ": cost function for a linear regression model\n",
    "\n",
    "$$\n",
    "MSE(\\theta) = \\frac{1}{m} \\sum_{i=1}^{m} \\left( \\hat{y}^{(i)} - y^{(i)} \\right)^2\n",
    "$$\n",
    "\n",
    "- m: Total number of instances\n",
    "- $\\hat{y}^{(i)}$: predicted value of ith instance. $\\hat{y}^{(i)} = h_\\theta (x_i)$\n",
    "- $y^{(i)}$: Actual value (Ground truth) of that instance"
   ]
  },
  {
   "cell_type": "markdown",
   "id": "4acef39e",
   "metadata": {},
   "source": [
    "_Now we have to find a parameter ($\\theta$) that reduces the cost function_\n",
    "\n",
    "- ### _The Normal Equation_\n",
    "An equation that give $\\theta$ for model\n",
    "\n",
    "$$\\hat{\\theta} = (X^\\top X)^{-1}X^\\top y$$\n",
    "$\\hat{\\theta}$: is the value of $\\theta$ that minimize cost function (MSE)  \n",
    "$X$: That feature vector of shape mxn  \n",
    "$y$: Vector containing target values "
   ]
  },
  {
   "cell_type": "code",
   "execution_count": 2,
   "id": "a4a06ca2",
   "metadata": {},
   "outputs": [],
   "source": [
    "import numpy as np\n",
    "import matplotlib.pyplot as plt"
   ]
  },
  {
   "cell_type": "code",
   "execution_count": 3,
   "id": "77849853",
   "metadata": {},
   "outputs": [],
   "source": [
    "## Setting up default canva for plots\n",
    "\n",
    "plt.rc('font', size=14)\n",
    "plt.rc('axes', labelsize=14, titlesize=14)\n",
    "plt.rc('legend', fontsize=14)\n",
    "plt.rc('xtick', labelsize=10)\n",
    "plt.rc('ytick', labelsize=10)"
   ]
  },
  {
   "cell_type": "code",
   "execution_count": 4,
   "id": "b9603f86",
   "metadata": {},
   "outputs": [],
   "source": [
    "## Test the equations\n",
    "np.random.seed(42)\n",
    "m = 100                         #number of instances\n",
    "X = 2 * np.random.rand(m,1)     #shape of X = 100x1\n",
    "y = 10+2*X + np.random.rand(m,1)                      #Target values"
   ]
  },
  {
   "cell_type": "code",
   "execution_count": 5,
   "id": "1e843b05",
   "metadata": {},
   "outputs": [
    {
     "data": {
      "text/plain": [
       "<matplotlib.collections.PathCollection at 0x1fccdd80c20>"
      ]
     },
     "execution_count": 5,
     "metadata": {},
     "output_type": "execute_result"
    },
    {
     "data": {
      "image/png": "[encoded data removed]",
      "text/plain": [
       "<Figure size 500x400 with 1 Axes>"
      ]
     },
     "metadata": {},
     "output_type": "display_data"
    }
   ],
   "source": [
    "## Plot\n",
    "plt.figure(figsize=(5,4))\n",
    "plt.grid(True)\n",
    "plt.axis([0,2,8,20])\n",
    "plt.xlabel(\"X\")\n",
    "plt.ylabel(\"y\",rotation=0)\n",
    "plt.scatter(x=X,y=y,s=10,c='b')"
   ]
  },
  {
   "cell_type": "code",
   "execution_count": 6,
   "id": "5c602bbd",
   "metadata": {},
   "outputs": [
    {
     "data": {
      "text/plain": [
       "array([[10.51359766],\n",
       "       [ 1.98323418]])"
      ]
     },
     "execution_count": 6,
     "metadata": {},
     "output_type": "execute_result"
    }
   ],
   "source": [
    "## Finding best theta\n",
    "from sklearn.preprocessing import add_dummy_feature\n",
    "X_b = add_dummy_feature(X)     #Add that X0:1 to each instance\n",
    "\n",
    "best_theta = np.linalg.inv(X_b.T @ X_b) @ X_b.T @ y\n",
    "\n",
    "# \".T\" does the tanspose, \".inv\" does the inverse, \"@\" does matrix multiplication (If matrix) and dot product (If vector)\n",
    "best_theta"
   ]
  },
  {
   "cell_type": "markdown",
   "id": "a751620e",
   "metadata": {},
   "source": [
    "The function we had was y = 10+2x+noise   \n",
    "from this we expected 'best_theta' to be 10 and 2, but fair enough!"
   ]
  },
  {
   "cell_type": "code",
   "execution_count": 7,
   "id": "6255fa28",
   "metadata": {},
   "outputs": [
    {
     "name": "stdout",
     "output_type": "stream",
     "text": [
      "Predicted values\n",
      " [[11.99892611]\n",
      " [14.28403294]\n",
      " [13.41658797]\n",
      " [12.88777955]\n",
      " [11.13226993]]\n",
      "\n",
      "\n",
      "Acutal values\n",
      " [[11.52958966]\n",
      " [14.43926764]\n",
      " [13.24233175]\n",
      " [12.90320463]\n",
      " [11.53164104]]\n"
     ]
    }
   ],
   "source": [
    "# Predicting\n",
    "y_pred = 10.5135 + 1.983*X\n",
    "print(\"Predicted values\\n\",y_pred[:5])\n",
    "print(\"\\n\")\n",
    "print(\"Acutal values\\n\",y[:5])"
   ]
  },
  {
   "cell_type": "code",
   "execution_count": 28,
   "id": "eb3b19de",
   "metadata": {},
   "outputs": [],
   "source": [
    "# Better way\n",
    "np.random.seed(42)\n",
    "X_new = np.random.uniform(0,2,(1000,1))\n",
    "X_new_b = add_dummy_feature(X_new)\n",
    "X_new_pred = X_new_b @ best_theta"
   ]
  },
  {
   "cell_type": "code",
   "execution_count": null,
   "id": "1162f141",
   "metadata": {},
   "outputs": [
    {
     "data": {
      "text/plain": [
       "<matplotlib.legend.Legend at 0x1fcf27cd310>"
      ]
     },
     "execution_count": 29,
     "metadata": {},
     "output_type": "execute_result"
    },
    {
     "data": {
      "image/png": "[encoded data removed]",
      "text/plain": [
       "<Figure size 500x400 with 1 Axes>"
      ]
     },
     "metadata": {},
     "output_type": "display_data"
    }
   ],
   "source": [
    "plt.figure(figsize=(5,4))\n",
    "plt.grid(True)\n",
    "plt.axis([0,2,8,20])\n",
    "plt.xlabel(\"X\")\n",
    "plt.ylabel(\"y\",rotation=0)\n",
    "plt.scatter(x=X,y=y,s=10,c='b',label='Original')\n",
    "plt.scatter(x=X_new,y=X_new_pred,c='r',s=1,label='Predictions')\n",
    "\n",
    "plt.legend(fontsize=10)"
   ]
  },
  {
   "cell_type": "markdown",
   "id": "b8f02616",
   "metadata": {},
   "source": [
    "But there are more ways to get that $\\theta$ such that cost function of linear regression model is minimum\n",
    "\n",
    "1. The normal Equation:\n",
    "$$\\hat{\\theta} = (X^\\top X)^{-1}X^\\top y$$\n",
    "\n",
    "But when $(X^\\top X)^{-1}$ does not exist, i.e X is singluar matrix or illfunctioned then there are two more ways.     \n",
    "Under the hood they used _SVD (Singluar Value Decomposition)_ to compute numerically stable solution even when $(X^\\top X)^{-1}$ doesnt exist.  \n",
    "\n",
    "2. np.linalg.lstsq   \n",
    "lstsq stands for _least square solver_, it computes $min_\\theta(||X\\theta - y||^2)$  \n",
    "returns: Best_theta, residuals, Rank of matrix X, Singluar values of X  \n",
    "\n",
    "3. np.linalg.pinv  \n",
    "np.linalg.pinv computes the Moore–Penrose pseudoinverse of a matrix. It gives you a stable “inverse” even when the matrix isn’t square or is singular.  \n",
    "returns $X^{+}$ (Psuedoinverse)  \n",
    "We can get $$\\hat{\\theta} = X^{+}y$$\n",
    "\n",
    "\n",
    "- Use pinv when you actually need the pseudoinverse matrix (e.g. for sensitivity analysis or multiple right‑hand sides).\n",
    "\n",
    "- Use lstsq when you just want the best‑fit $\\theta$ or residual, rank and singluar values \n"
   ]
  },
  {
   "cell_type": "code",
   "execution_count": 30,
   "id": "0d0b0994",
   "metadata": {},
   "outputs": [
    {
     "data": {
      "text/plain": [
       "array([[10.51359766],\n",
       "       [ 1.98323418]])"
      ]
     },
     "execution_count": 30,
     "metadata": {},
     "output_type": "execute_result"
    }
   ],
   "source": [
    "## Using The normal equation\n",
    "best_theta = np.linalg.inv(X_b.T @ X_b) @ X_b.T @ y\n",
    "best_theta"
   ]
  },
  {
   "cell_type": "code",
   "execution_count": 31,
   "id": "34837d65",
   "metadata": {},
   "outputs": [
    {
     "data": {
      "text/plain": [
       "array([[10.51359766],\n",
       "       [ 1.98323418]])"
      ]
     },
     "execution_count": 31,
     "metadata": {},
     "output_type": "execute_result"
    }
   ],
   "source": [
    "## Using lstsq\n",
    "\n",
    "best_theta_svd, residual, rank, singular_value = np.linalg.lstsq(X_b,y)\n",
    "best_theta_svd"
   ]
  },
  {
   "cell_type": "code",
   "execution_count": 34,
   "id": "6d875f6a",
   "metadata": {},
   "outputs": [
    {
     "data": {
      "text/plain": [
       "array([[10.51359766],\n",
       "       [ 1.98323418]])"
      ]
     },
     "execution_count": 34,
     "metadata": {},
     "output_type": "execute_result"
    }
   ],
   "source": [
    "## Using pinv\n",
    "\n",
    "pinv_X = np.linalg.pinv(X_b)\n",
    "best_theta_pinv = pinv_X @ y\n",
    "best_theta_pinv"
   ]
  },
  {
   "cell_type": "code",
   "execution_count": 36,
   "id": "bea153de",
   "metadata": {},
   "outputs": [
    {
     "data": {
      "text/plain": [
       "(array([10.51359766]), array([[1.98323418]]))"
      ]
     },
     "execution_count": 36,
     "metadata": {},
     "output_type": "execute_result"
    }
   ],
   "source": [
    "## Getting it directly using LinearRegression\n",
    "from sklearn.linear_model import LinearRegression\n",
    "\n",
    "lin_reg = LinearRegression()\n",
    "lin_reg.fit(X,y)\n",
    "\n",
    "lin_reg.intercept_,lin_reg.coef_"
   ]
  },
  {
   "cell_type": "markdown",
   "id": "30f6bbc4",
   "metadata": {},
   "source": []
  }
 ],
 "metadata": {
  "kernelspec": {
   "display_name": "venv",
   "language": "python",
   "name": "python3"
  },
  "language_info": {
   "codemirror_mode": {
    "name": "ipython",
    "version": 3
   },
   "file_extension": ".py",
   "mimetype": "text/x-python",
   "name": "python",
   "nbconvert_exporter": "python",
   "pygments_lexer": "ipython3",
   "version": "3.13.1"
  }
 },
 "nbformat": 4,
 "nbformat_minor": 5
}
