{
 "cells": [
  {
   "cell_type": "markdown",
   "id": "0b8eea31",
   "metadata": {},
   "source": [
    "# Linear Regression\n",
    "\n",
    "- One of the simplest and widely used algorithm for predictive modeling\n",
    "- Tries to build a relationship between \n",
    "    - independent variable (input) `X` \n",
    "    - and dependent variable (output) `Y`"
   ]
  },
  {
   "cell_type": "markdown",
   "id": "12181221",
   "metadata": {},
   "source": [
    "__Equations:__\n",
    "\n",
    "_For simple data with single feature:_\n",
    "$$\\text{Y} = \\text{mX + c}$$\n",
    "- m: slope (or weight)  \n",
    "- c: intercept (or bias term)\n",
    "\n",
    "_For Multiple Linear Regression (multiple features):_\n",
    "$$ \\hat{y} = \\theta_0 + \\theta_1 x_1 + \\theta_2 x_2 + .... + \\theta_n x_n $$\n",
    "\n",
    "- $\\hat{y}$: output (predicted value)  \n",
    "- $\\theta_0 + \\theta_1 x_1 + \\theta_2 x_2 + .... + \\theta_n x_n$: `weighted sum`  \n",
    "- $X_i$: feature value of ith feature   \n",
    "- $\\theta_j$: model parameters, $\\theta_0$ is `bias term` and $\\theta_1,\\theta_2...$ are `Feature weights`"
   ]
  },
  {
   "cell_type": "markdown",
   "id": "6ac7fef4",
   "metadata": {},
   "source": [
    "_Two more representation of this function_\n",
    "\n",
    "1. Vectorized form:  \n",
    "$\\theta$ and x are taken as vectors, $$\\hat{Y} = h_\\theta \\cdot (x) = \\theta \\cdot X$$ \n",
    "\n",
    "\n",
    "$\\theta$: Model parameters vector ($\\theta_0$ bias term + $\\theta_1,\\theta_2...$ features wieight)  \n",
    "$x$ : feature vector, containing feature value of an instance. $x_0$ is always $1$, $x_1$ to $x_n$ containg feature values  \n",
    "$\\hat{Y}$: output is a scalar,    \n",
    "$h_\\theta$: `hypothesis function` uses model parameters $\\theta$\n"
   ]
  },
  {
   "cell_type": "markdown",
   "id": "ebf84053",
   "metadata": {},
   "source": [
    "2. Matrix form:\n",
    "\n",
    "$$\n",
    "\\hat{Y} = \\theta^\\top X\n",
    "$$\n",
    "\n",
    "$$\n",
    "\\theta = \n",
    "\\begin{bmatrix}\n",
    "\\theta_0 \\\\\n",
    "\\theta_1 \\\\\n",
    "\\vdots \\\\\n",
    "\\theta_n\n",
    "\\end{bmatrix}\n",
    "\\quad,\\quad\n",
    "\n",
    "X = \n",
    "\\begin{bmatrix}\n",
    "x_1^{(0)} & x_2^{(0)} & \\dots & x_n^{(0)} \\\\\n",
    "x_1^{(1)} & x_2^{(1)} & \\dots & x_n^{(1)} \\\\\n",
    "x_1^{(2)} & x_2^{(2)} & \\dots & x_n^{(2)} \\\\\n",
    "\\vdots & \\vdots & \\ddots & \\vdots \\\\\n",
    "x_1^{(m)} & x_2^{(m)} & \\dots & x_n^{(m)}\n",
    "\\end{bmatrix}\n",
    "$$\n",
    "\n",
    "\n",
    "\n",
    "\n",
    "- $\\theta$: model parameters (θ₀ = bias, θ₁…θₙ = weights)  \n",
    "- $x$: feature vector (x₀ = 1 for bias)  \n",
    "- $\\theta^T x$: matrix multiplication of θᵀ and x gives prediction ŷ  \n",
    "- $\\hat{y}$: is a vector of shape 1x1\n",
    "\n",
    "Note: The shape of $X$ is mxn , m:number of rows (instances), n:number of columns(Feature)  \n",
    "      The shape of $Y$ is mx1\n"
   ]
  },
  {
   "cell_type": "markdown",
   "id": "8ac4a52a",
   "metadata": {},
   "source": [
    "### ___How do we train a model?___\n",
    "\n",
    "what does `Training` a model refer to?  \n",
    "Training a model refers to setting parameters such that the model best fits the training data.\n",
    "\n",
    "What does `fitting` a model mean?  \n",
    "Fitting refers to setting parameters such that the predictions of model closely matches the outputs (present in training set)\n",
    "\n",
    "To find the best parameters, we need a measure of how good or bad the model is predicting, And that measure is called `Cost function or Loss function`  \n",
    "- The most common performance measure is RMSE (for linear reg). \n",
    "- but as a cost function we gonna use MSE, because its easier to work with MSE and its gives the same result (because the value that minimizes MSE, also minimizes its root)\n",
    "- Hence we have to find best $\\theta$ that minimizes MSE\n",
    "\n",
    "Note- This is often done in ML, that we dont use acutally commonly used perfomance matrix while evaluating final model, instead we use an easier-to-optimize function."
   ]
  },
  {
   "cell_type": "markdown",
   "id": "b76b319b",
   "metadata": {},
   "source": [
    "### ___MSE (Mean Squared Error)___\n",
    ": cost function for a linear regression model\n",
    "\n",
    "$$\n",
    "MSE(\\theta) = \\frac{1}{m} \\sum_{i=1}^{m} \\left( \\hat{y}^{(i)} - y^{(i)} \\right)^2\n",
    "$$\n",
    "\n",
    "- m: Total number of instances\n",
    "- $\\hat{y}^{(i)}$: predicted value of ith instance. $\\hat{y}^{(i)} = h_\\theta (x_i)$\n",
    "- $y^{(i)}$: Actual value (Ground truth) of that instance"
   ]
  },
  {
   "cell_type": "markdown",
   "id": "4acef39e",
   "metadata": {},
   "source": [
    "_Now we have to find a parameter ($\\theta$) that reduces the cost function_\n"
   ]
  }
 ],
 "metadata": {
  "kernelspec": {
   "display_name": "venv",
   "language": "python",
   "name": "python3"
  },
  "language_info": {
   "codemirror_mode": {
    "name": "ipython",
    "version": 3
   },
   "file_extension": ".py",
   "mimetype": "text/x-python",
   "name": "python",
   "nbconvert_exporter": "python",
   "pygments_lexer": "ipython3",
   "version": "3.13.1"
  }
 },
 "nbformat": 4,
 "nbformat_minor": 5
}
