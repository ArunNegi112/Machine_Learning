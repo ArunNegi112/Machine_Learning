{
 "cells": [
  {
   "cell_type": "markdown",
   "id": "f29d1b6e",
   "metadata": {},
   "source": [
    "## Unsupervised Learning\n",
    "Is that area of machine learning where we have no lables in the data"
   ]
  },
  {
   "cell_type": "markdown",
   "id": "589532c6",
   "metadata": {},
   "source": [
    "Few unsupervised learning tasks are: \n",
    "- Clustering  \n",
    "Grouping similar instances together, useful in recommendation systems, data analysis, customer segmentation, dimensionality reduction, image segmentation\n",
    "- Anomaly Detection  \n",
    "The objective is to learn what is \"normal\" in the dataset and then detect things that are not normal\n",
    "- Density Estimation\n",
    "Using probability density function (PDF) on the random process that generated the dataset, useful in anomaly detection, data visualization"
   ]
  }
 ],
 "metadata": {
  "language_info": {
   "name": "python"
  }
 },
 "nbformat": 4,
 "nbformat_minor": 5
}
